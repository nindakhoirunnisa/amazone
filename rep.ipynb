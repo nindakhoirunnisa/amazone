{
 "cells": [
  {
   "cell_type": "code",
   "execution_count": 14,
   "metadata": {},
   "outputs": [],
   "source": [
    "import requests\n",
    "import pandas as pd\n",
    "import json"
   ]
  },
  {
   "cell_type": "code",
   "execution_count": 22,
   "metadata": {},
   "outputs": [
    {
     "name": "stdout",
     "output_type": "stream",
     "text": [
      "{'car': {'numSeats': 4}, 'isAvailable': True, '_id': '63b3672b7bdc639a5223e50c', 'name': 'Melinda', 'phone': '617-123-4567', 'location': {'type': 'Point', 'coordinates': [42.348072, -71.062814], '_id': '63b47bd0ed6c526dec853b2a'}}\n"
     ]
    }
   ],
   "source": [
    "y = requests.put('http://localhost:3000/api/partners/63b3672b7bdc639a5223e50c')\n",
    "print(y.json())\n"
   ]
  },
  {
   "cell_type": "code",
   "execution_count": 21,
   "metadata": {},
   "outputs": [],
   "source": [
    "def nearest_partners(long, lat):\n",
    "    x = requests.get('http://localhost:3000/api/partners?lng=' + str(long) + '&lat=' + str(lat))\n",
    "    print(json.dumps(x.json()[0], indent=4))\n",
    "    #id = (x.json()[0]['_id'])\n",
    "    #y = requests.put('http://localhost:3000/api/partners/'+str(id))\n",
    "    #print(json.dumps(y.json(), indent=4))"
   ]
  },
  {
   "cell_type": "code",
   "execution_count": 22,
   "metadata": {},
   "outputs": [
    {
     "name": "stdout",
     "output_type": "stream",
     "text": [
      "{\n",
      "    \"_id\": \"63b49ae49650fe5ba876308b\",\n",
      "    \"is_idle\": true,\n",
      "    \"name\": \"A. Ayoob\",\n",
      "    \"phone\": \"90-123-4567\",\n",
      "    \"location\": {\n",
      "        \"type\": \"Point\",\n",
      "        \"coordinates\": [\n",
      "            42.356479,\n",
      "            -71.068316\n",
      "        ]\n",
      "    },\n",
      "    \"account_number\": \"123456789\",\n",
      "    \"sortcode\": \"11-21-12\",\n",
      "    \"gender\": \"Female\",\n",
      "    \"dist\": {\n",
      "        \"calculated\": 289.42899705546904\n",
      "    },\n",
      "    \"ETA\": 0.9647633235182301\n",
      "}\n"
     ]
    }
   ],
   "source": [
    "nearest_partners(42.356479,-71.065716)"
   ]
  }
 ],
 "metadata": {
  "kernelspec": {
   "display_name": "base",
   "language": "python",
   "name": "python3"
  },
  "language_info": {
   "codemirror_mode": {
    "name": "ipython",
    "version": 3
   },
   "file_extension": ".py",
   "mimetype": "text/x-python",
   "name": "python",
   "nbconvert_exporter": "python",
   "pygments_lexer": "ipython3",
   "version": "3.9.12"
  },
  "orig_nbformat": 4,
  "vscode": {
   "interpreter": {
    "hash": "23bf0724a01b6ea9814e66f76182ea78c0ee849a72ca257c0e116bf83bb4960a"
   }
  }
 },
 "nbformat": 4,
 "nbformat_minor": 2
}
